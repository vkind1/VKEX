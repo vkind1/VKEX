{
 "cells": [
  {
   "cell_type": "markdown",
   "id": "2a3f47ef-a2d4-4254-8941-b66ededdae18",
   "metadata": {},
   "source": [
    "# Data Science Tools and Ecosystem"
   ]
  },
  {
   "cell_type": "markdown",
   "id": "d7823afd-24b0-4102-a88f-bfce74ddf4de",
   "metadata": {},
   "source": [
    "In this notebook, Data Science Tools and Ecosystem are summarized."
   ]
  },
  {
   "cell_type": "markdown",
   "id": "9be6947c-7f6f-4bd4-a41d-59e8000baf63",
   "metadata": {},
   "source": [
    "__Objectives:__  \n",
    "Create a Markdown Cell \n",
    "* Ordered List Popular Languages for Data Science\n",
    "* Ordered List of Commonly Used Libraries Used by Data Scientists\n",
    "* Create a Single Column Table listing Data Science Tools\n",
    "* Introducing Arithmetic Expression Examples\n",
    "\n",
    "Create a Code Cell \n",
    "* To Multiply and Add Numbers\n",
    "* to convert minutes to hours"
   ]
  },
  {
   "cell_type": "markdown",
   "id": "f0f4c4a8-a9ff-483b-9fc5-b43c5ae004f4",
   "metadata": {},
   "source": [
    "Some of the popular languages that Data Scientists use are:\n",
    "1. R\n",
    "2. Java\n",
    "3. Python"
   ]
  },
  {
   "cell_type": "markdown",
   "id": "7a6ca309-c8ad-4420-821c-378ef4bc8690",
   "metadata": {},
   "source": [
    "Some of the commonly used libraries used by Data Scientists include:\n",
    "1. Pandas\n",
    "2. NumPy\n",
    "3. MatPlotLib"
   ]
  },
  {
   "cell_type": "markdown",
   "id": "6b848f1a-d442-4629-b3a6-c4c3f01f416b",
   "metadata": {},
   "source": [
    "|Data Science Tools|\n",
    "|------------------|\n",
    "|Jupyter|\n",
    "|RStudio|\n",
    "|MatPlotLib|"
   ]
  },
  {
   "cell_type": "markdown",
   "id": "68e2be51-7736-47f4-b1c3-a3c9b6ccc1ba",
   "metadata": {},
   "source": [
    "### Below are a few examples of evaluating arithmetic expressions in Python\n",
    "$$X=5$$\n",
    "$$A=X+2+1$$"
   ]
  },
  {
   "cell_type": "code",
   "execution_count": 2,
   "id": "0dc01275-246b-42ae-bb59-a95dad614f03",
   "metadata": {},
   "outputs": [
    {
     "name": "stdout",
     "output_type": "stream",
     "text": [
      "This a simple arithmetic expression to mutiply then add integers\n",
      "(3*4)+5 =\n",
      "17\n"
     ]
    }
   ],
   "source": [
    "print(\"This a simple arithmetic expression to mutiply then add integers\")\n",
    "print(\"(3*4)+5 =\")\n",
    "print((3*4)+5)"
   ]
  },
  {
   "cell_type": "code",
   "execution_count": 5,
   "id": "35a61cae-1eb3-4995-8839-d8ebddd69407",
   "metadata": {},
   "outputs": [
    {
     "name": "stdout",
     "output_type": "stream",
     "text": [
      "This will convert 200 minutes to hours by diving by 60.\n",
      "120/60\n",
      "2.0\n"
     ]
    }
   ],
   "source": [
    "print(\"This will convert 200 minutes to hours by diving by 60.\")\n",
    "print((\"120/60\"))\n",
    "print((120/60))"
   ]
  },
  {
   "cell_type": "markdown",
   "id": "e37fbb25-e14a-4d4e-846c-123edad420d9",
   "metadata": {},
   "source": [
    "## Author  \n",
    "Vickie Kind\n"
   ]
  },
  {
   "cell_type": "code",
   "execution_count": null,
   "id": "a807ac04-803e-42f0-8348-a8af8cc9a616",
   "metadata": {},
   "outputs": [],
   "source": []
  },
  {
   "cell_type": "code",
   "execution_count": null,
   "id": "fdb01673-3059-4c28-baea-3e2472f8cf6a",
   "metadata": {},
   "outputs": [],
   "source": []
  }
 ],
 "metadata": {
  "kernelspec": {
   "display_name": "Python 3 (ipykernel)",
   "language": "python",
   "name": "python3"
  },
  "language_info": {
   "codemirror_mode": {
    "name": "ipython",
    "version": 3
   },
   "file_extension": ".py",
   "mimetype": "text/x-python",
   "name": "python",
   "nbconvert_exporter": "python",
   "pygments_lexer": "ipython3",
   "version": "3.13.5"
  }
 },
 "nbformat": 4,
 "nbformat_minor": 5
}
